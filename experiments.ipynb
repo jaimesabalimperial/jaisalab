{
 "cells": [
  {
   "cell_type": "code",
   "execution_count": null,
   "metadata": {},
   "outputs": [],
   "source": [
    "#clone repository\n",
    "!git clone https://github.com/jaimesabalimperial/jaisalab.git\n",
    "%cd jaisalab/ "
   ]
  },
  {
   "cell_type": "code",
   "execution_count": null,
   "metadata": {},
   "outputs": [],
   "source": [
    "# Install pip packages in the current Jupyter kernel\n",
    "import sys\n",
    "!{sys.executable} -m pip install -r env/requirements.txt"
   ]
  },
  {
   "cell_type": "code",
   "execution_count": 1,
   "metadata": {},
   "outputs": [],
   "source": [
    "#import experiments\n",
    "from torch import seed\n",
    "from jaisalab.experiments.backlog import (trpo_backlog, cpo_backlog, \n",
    "                                          saute_trpo_backlog, dcpo_backlog)\n",
    "from jaisalab.evaluation.plotter import RLPlotter\n",
    "from jaisalab.utils.misc import zip_directory"
   ]
  },
  {
   "cell_type": "code",
   "execution_count": null,
   "metadata": {},
   "outputs": [],
   "source": [
    "#simple function to test experiments for a single seed\n",
    "def test_seed(value):\n",
    "    trpo_backlog(seed=value)\n",
    "    cpo_backlog(seed=value)\n",
    "    saute_trpo_backlog(seed=value)\n",
    "    dcpo_backlog(seed=value)"
   ]
  },
  {
   "cell_type": "code",
   "execution_count": 1,
   "metadata": {},
   "outputs": [],
   "source": [
    "from jaisalab.evaluation.plotter import RLPlotter"
   ]
  },
  {
   "cell_type": "code",
   "execution_count": 3,
   "metadata": {},
   "outputs": [
    {
     "ename": "ReplicationsError",
     "evalue": "Number of replications across different experiments doesn't match: [8, 7]",
     "output_type": "error",
     "traceback": [
      "\u001b[0;31m---------------------------------------------------------------------------\u001b[0m",
      "\u001b[0;31mReplicationsError\u001b[0m                         Traceback (most recent call last)",
      "\u001b[1;32m/Users/jaimesabal/Desktop/ICL/thesis/thesis_software_archive/jaisalab/experiments.ipynb Cell 6\u001b[0m in \u001b[0;36m<cell line: 16>\u001b[0;34m()\u001b[0m\n\u001b[1;32m     <a href='vscode-notebook-cell:/Users/jaimesabal/Desktop/ICL/thesis/thesis_software_archive/jaisalab/experiments.ipynb#ch0000009?line=12'>13</a>\u001b[0m data_dirs \u001b[39m+\u001b[39m\u001b[39m=\u001b[39m [\u001b[39m'\u001b[39m\u001b[39mdata/local/experiment\u001b[39m\u001b[39m'\u001b[39m]\n\u001b[1;32m     <a href='vscode-notebook-cell:/Users/jaimesabal/Desktop/ICL/thesis/thesis_software_archive/jaisalab/experiments.ipynb#ch0000009?line=14'>15</a>\u001b[0m \u001b[39m#['dcpo_backlog']\u001b[39;00m\n\u001b[0;32m---> <a href='vscode-notebook-cell:/Users/jaimesabal/Desktop/ICL/thesis/thesis_software_archive/jaisalab/experiments.ipynb#ch0000009?line=15'>16</a>\u001b[0m plotter \u001b[39m=\u001b[39m RLPlotter(fdir\u001b[39m=\u001b[39;49m\u001b[39mNone\u001b[39;49;00m , data_dir\u001b[39m=\u001b[39;49mdata_dirs)\n\u001b[1;32m     <a href='vscode-notebook-cell:/Users/jaimesabal/Desktop/ICL/thesis/thesis_software_archive/jaisalab/experiments.ipynb#ch0000009?line=16'>17</a>\u001b[0m plotter\u001b[39m.\u001b[39mplot_returns()\n\u001b[1;32m     <a href='vscode-notebook-cell:/Users/jaimesabal/Desktop/ICL/thesis/thesis_software_archive/jaisalab/experiments.ipynb#ch0000009?line=17'>18</a>\u001b[0m plotter\u001b[39m.\u001b[39mplot_costs(use_legend\u001b[39m=\u001b[39m\u001b[39mFalse\u001b[39;00m)\n",
      "File \u001b[0;32m~/Desktop/ICL/thesis/thesis_software_archive/jaisalab/jaisalab/evaluation/plotter.py:32\u001b[0m, in \u001b[0;36mRLPlotter.__init__\u001b[0;34m(self, get_latest, fdir, data_dir, dtype, savefig, use_legend, **kwargs)\u001b[0m\n\u001b[1;32m     30\u001b[0m \u001b[39mdef\u001b[39;00m \u001b[39m__init__\u001b[39m(\u001b[39mself\u001b[39m, get_latest\u001b[39m=\u001b[39m\u001b[39mTrue\u001b[39;00m, fdir\u001b[39m=\u001b[39m\u001b[39mNone\u001b[39;00m, data_dir\u001b[39m=\u001b[39m\u001b[39m'\u001b[39m\u001b[39mdata/local/experiment\u001b[39m\u001b[39m'\u001b[39m, \n\u001b[1;32m     31\u001b[0m              dtype\u001b[39m=\u001b[39m\u001b[39m'\u001b[39m\u001b[39mnp\u001b[39m\u001b[39m'\u001b[39m, savefig\u001b[39m=\u001b[39m\u001b[39mTrue\u001b[39;00m, use_legend\u001b[39m=\u001b[39m\u001b[39mTrue\u001b[39;00m, \u001b[39m*\u001b[39m\u001b[39m*\u001b[39mkwargs):\n\u001b[0;32m---> 32\u001b[0m     \u001b[39msuper\u001b[39;49m()\u001b[39m.\u001b[39;49m\u001b[39m__init__\u001b[39;49m(get_latest\u001b[39m=\u001b[39;49mget_latest, fdir\u001b[39m=\u001b[39;49mfdir, data_dir\u001b[39m=\u001b[39;49mdata_dir, \n\u001b[1;32m     33\u001b[0m                      dtype\u001b[39m=\u001b[39;49mdtype, savefig\u001b[39m=\u001b[39;49msavefig, use_legend\u001b[39m=\u001b[39;49muse_legend, \u001b[39m*\u001b[39;49m\u001b[39m*\u001b[39;49mkwargs)\n",
      "File \u001b[0;32m~/Desktop/ICL/thesis/thesis_software_archive/jaisalab/jaisalab/evaluation/plotter_base.py:22\u001b[0m, in \u001b[0;36mBasePlotter.__init__\u001b[0;34m(self, get_latest, fdir, data_dir, dtype, savefig, use_legend, **kwargs)\u001b[0m\n\u001b[1;32m     19\u001b[0m \u001b[39mself\u001b[39m\u001b[39m.\u001b[39m_dtype \u001b[39m=\u001b[39m dtype\n\u001b[1;32m     21\u001b[0m \u001b[39m#initialise plotter and gather data from directory/ies\u001b[39;00m\n\u001b[0;32m---> 22\u001b[0m \u001b[39mself\u001b[39;49m\u001b[39m.\u001b[39;49m_init_plotter(fdir, data_dir, get_latest) \n\u001b[1;32m     24\u001b[0m \u001b[39mself\u001b[39m\u001b[39m.\u001b[39m_savefig \u001b[39m=\u001b[39m savefig\n\u001b[1;32m     25\u001b[0m \u001b[39mself\u001b[39m\u001b[39m.\u001b[39mfig_kwargs \u001b[39m=\u001b[39m kwargs\n",
      "File \u001b[0;32m~/Desktop/ICL/thesis/thesis_software_archive/jaisalab/jaisalab/evaluation/plotter_base.py:72\u001b[0m, in \u001b[0;36mBasePlotter._init_plotter\u001b[0;34m(self, fdir, data_dir, get_latest)\u001b[0m\n\u001b[1;32m     70\u001b[0m \u001b[39m#if multiple directories are specified then gather the data from the replications\u001b[39;00m\n\u001b[1;32m     71\u001b[0m \u001b[39melif\u001b[39;00m \u001b[39misinstance\u001b[39m(data_dir, (\u001b[39mtuple\u001b[39m, \u001b[39mlist\u001b[39m)):\n\u001b[0;32m---> 72\u001b[0m     \u001b[39mself\u001b[39m\u001b[39m.\u001b[39mdata, \u001b[39mself\u001b[39m\u001b[39m.\u001b[39mstd_data \u001b[39m=\u001b[39m gather_replications(data_dir, fdir) \u001b[39m#gather replications data\u001b[39;00m\n\u001b[1;32m     73\u001b[0m     ordered_experiments \u001b[39m=\u001b[39m order_experiments(data_dir, fdir)\n\u001b[1;32m     74\u001b[0m     \u001b[39m#for plotting purposes\u001b[39;00m\n",
      "File \u001b[0;32m~/Desktop/ICL/thesis/thesis_software_archive/jaisalab/jaisalab/utils/eval.py:67\u001b[0m, in \u001b[0;36mgather_replications\u001b[0;34m(data_dirs, fdir)\u001b[0m\n\u001b[1;32m     47\u001b[0m \u001b[39mdef\u001b[39;00m \u001b[39mgather_replications\u001b[39m(data_dirs, fdir\u001b[39m=\u001b[39m\u001b[39mNone\u001b[39;00m):\n\u001b[1;32m     48\u001b[0m     \u001b[39m\"\"\"Gathers the data from a variety of directories and averages the \u001b[39;00m\n\u001b[1;32m     49\u001b[0m \u001b[39m    data from equivalent experiments across the different ran seed values. \u001b[39;00m\n\u001b[1;32m     50\u001b[0m \u001b[39m    \u001b[39;00m\n\u001b[0;32m   (...)\u001b[0m\n\u001b[1;32m     65\u001b[0m \u001b[39m        fdir (tuple, list): experiments to gather from the data directories. \u001b[39;00m\n\u001b[1;32m     66\u001b[0m \u001b[39m    \"\"\"\u001b[39;00m\n\u001b[0;32m---> 67\u001b[0m     ordered_experiments \u001b[39m=\u001b[39m order_experiments(data_dirs, fdir)\n\u001b[1;32m     69\u001b[0m     data \u001b[39m=\u001b[39m {}\n\u001b[1;32m     70\u001b[0m     \u001b[39mfor\u001b[39;00m exp, replication_paths \u001b[39min\u001b[39;00m ordered_experiments\u001b[39m.\u001b[39mitems():\n",
      "File \u001b[0;32m~/Desktop/ICL/thesis/thesis_software_archive/jaisalab/jaisalab/utils/eval.py:41\u001b[0m, in \u001b[0;36morder_experiments\u001b[0;34m(data_dirs, fdir)\u001b[0m\n\u001b[1;32m     38\u001b[0m num_replications \u001b[39m=\u001b[39m \u001b[39mlist\u001b[39m(\u001b[39mset\u001b[39m([\u001b[39mlen\u001b[39m(exp_replications) \u001b[39mfor\u001b[39;00m exp_replications \u001b[39min\u001b[39;00m ordered_experiments\u001b[39m.\u001b[39mvalues()]))\n\u001b[1;32m     40\u001b[0m \u001b[39mif\u001b[39;00m \u001b[39mlen\u001b[39m(num_replications) \u001b[39m>\u001b[39m \u001b[39m1\u001b[39m: \n\u001b[0;32m---> 41\u001b[0m     \u001b[39mraise\u001b[39;00m ReplicationsError(\u001b[39mf\u001b[39m\u001b[39m\"\u001b[39m\u001b[39mNumber of replications across different experiments doesn\u001b[39m\u001b[39m'\u001b[39m\u001b[39mt match: \u001b[39m\u001b[39m{\u001b[39;00mnum_replications\u001b[39m}\u001b[39;00m\u001b[39m\"\u001b[39m)\n\u001b[1;32m     42\u001b[0m \u001b[39melif\u001b[39;00m num_replications[\u001b[39m0\u001b[39m] \u001b[39m!=\u001b[39m \u001b[39mlen\u001b[39m(data_dirs):\n\u001b[1;32m     43\u001b[0m     \u001b[39mraise\u001b[39;00m ReplicationsError(\u001b[39mf\u001b[39m\u001b[39m\"\u001b[39m\u001b[39mNumber of replications (\u001b[39m\u001b[39m{\u001b[39;00mnum_replications[\u001b[39m0\u001b[39m]\u001b[39m}\u001b[39;00m\u001b[39m) doesn\u001b[39m\u001b[39m'\u001b[39m\u001b[39mt match number of directories (\u001b[39m\u001b[39m{\u001b[39;00m\u001b[39mlen\u001b[39m(data_dirs)\u001b[39m}\u001b[39;00m\u001b[39m).\u001b[39m\u001b[39m\"\u001b[39m)\n",
      "\u001b[0;31mReplicationsError\u001b[0m: Number of replications across different experiments doesn't match: [8, 7]"
     ]
    }
   ],
   "source": [
    "\"\"\"\n",
    "data_dirs = ['data/local/experiment',\n",
    "             'data1/local/experiment',\n",
    "             'data2/local/experiment', \n",
    "             'data3/local/experiment', \n",
    "             'data4/local/experiment',\n",
    "             'data5/local/experiment', \n",
    "             'data6/local/experiment']\n",
    "\"\"\"  \n",
    "\n",
    "num_seeds = 7\n",
    "data_dirs = [f'data{i}/local/experiment' for i in range(1, num_seeds+1)]\n",
    "data_dirs += ['data/local/experiment']\n",
    "\n",
    "#['dcpo_backlog']\n",
    "plotter = RLPlotter(fdir=None , data_dir=data_dirs)\n",
    "plotter.plot_returns()\n",
    "plotter.plot_costs(use_legend=False)\n"
   ]
  },
  {
   "cell_type": "code",
   "execution_count": null,
   "metadata": {},
   "outputs": [],
   "source": []
  }
 ],
 "metadata": {
  "kernelspec": {
   "display_name": "Python 3 (ipykernel)",
   "language": "python",
   "name": "python3"
  },
  "language_info": {
   "codemirror_mode": {
    "name": "ipython",
    "version": 3
   },
   "file_extension": ".py",
   "mimetype": "text/x-python",
   "name": "python",
   "nbconvert_exporter": "python",
   "pygments_lexer": "ipython3",
   "version": "3.8.13"
  },
  "orig_nbformat": 4,
  "vscode": {
   "interpreter": {
    "hash": "5f669c7084f16341f74c1b327dbfce1779bcbe9248dfe5af15e28a82cc4a6125"
   }
  }
 },
 "nbformat": 4,
 "nbformat_minor": 2
}
