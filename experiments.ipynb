{
 "cells": [
  {
   "cell_type": "code",
   "execution_count": 1,
   "metadata": {},
   "outputs": [
    {
     "name": "stdout",
     "output_type": "stream",
     "text": [
      "/\n",
      "rm: cannot remove 'jaisalab': No such file or directory\n"
     ]
    }
   ],
   "source": [
    "%cd ..\n",
    "%rm -r jaisalab"
   ]
  },
  {
   "cell_type": "code",
   "execution_count": 2,
   "metadata": {},
   "outputs": [
    {
     "name": "stdout",
     "output_type": "stream",
     "text": [
      "Cloning into 'jaisalab'...\n",
      "remote: Enumerating objects: 1018, done.\u001b[K\n",
      "remote: Counting objects: 100% (183/183), done.\u001b[K\n",
      "remote: Compressing objects: 100% (122/122), done.\u001b[K\n",
      "remote: Total 1018 (delta 113), reused 118 (delta 60), pack-reused 835\u001b[K\n",
      "Receiving objects: 100% (1018/1018), 1.02 MiB | 9.33 MiB/s, done.\n",
      "Resolving deltas: 100% (632/632), done.\n",
      "/jaisalab\n"
     ]
    }
   ],
   "source": [
    "#clone repository\n",
    "!git clone https://github.com/jaimesabalimperial/jaisalab.git\n",
    "%cd jaisalab/ "
   ]
  },
  {
   "cell_type": "code",
   "execution_count": null,
   "metadata": {},
   "outputs": [],
   "source": [
    "# Install pip packages in the current Jupyter kernel\n",
    "import sys\n",
    "!{sys.executable} -m pip install -r requirements.txt"
   ]
  },
  {
   "cell_type": "code",
   "execution_count": 4,
   "metadata": {},
   "outputs": [],
   "source": [
    "from torch import seed\n",
    "from jaisalab.experiments.backlog import (trpo_backlog, cpo_backlog, \n",
    "                                          saute_trpo_backlog, dcpo_backlog)\n",
    "from jaisalab.metrics import Plotter"
   ]
  },
  {
   "cell_type": "code",
   "execution_count": 5,
   "metadata": {},
   "outputs": [],
   "source": [
    "def test_trpo_backlog():\n",
    "    trpo_backlog(seed=1)\n",
    "\n",
    "def test_cpo_backlog():\n",
    "    cpo_backlog(seed=1)\n",
    "\n",
    "def test_saute_trpo_backlog():\n",
    "    saute_trpo_backlog(seed=1)\n",
    "\n",
    "def test_dcpo_backlog():\n",
    "    dcpo_backlog(seed=1)\n",
    "\n",
    "def plot_experiment():\n",
    "    fdir = ['trpo_backlog_1', 'cpo_backlog_2', 'dcpo_backlog_1']\n",
    "    plotter = Plotter(fdir=None)\n",
    "    plotter.plot_returns()\n",
    "    #plotter.plot_constraint_vals()\n",
    "    plotter.plot_costs()\n",
    "    #plotter.plot_distribution_progression(num_points=400)\n",
    "    #plotter.plot_final_distribution()\n",
    "    #plotter.plot_quantiles_progression()"
   ]
  },
  {
   "cell_type": "code",
   "execution_count": 6,
   "metadata": {},
   "outputs": [
    {
     "name": "stdout",
     "output_type": "stream",
     "text": [
      "2022-08-04 09:48:13 | [saute_trpo_backlog] Logging to /jaisalab/data/local/experiment/saute_trpo_backlog\n"
     ]
    },
    {
     "name": "stderr",
     "output_type": "stream",
     "text": [
      "/usr/local/lib/python3.9/dist-packages/garage/experiment/deterministic.py:36: UserWarning: Enabeling deterministic mode in PyTorch can have a performance impact when using GPU.\n",
      "  warnings.warn(\n",
      "/usr/local/lib/python3.9/dist-packages/gym/logger.py:30: UserWarning: \u001b[33mWARN: Box bound precision lowered by casting to float32\u001b[0m\n",
      "  warnings.warn(colorize('%s: %s'%('WARN', msg % args), 'yellow'))\n"
     ]
    },
    {
     "name": "stdout",
     "output_type": "stream",
     "text": [
      "2022-08-04 09:48:14 | [saute_trpo_backlog] Obtaining samples...\n",
      "2022-08-04 09:48:14 | [saute_trpo_backlog] Obtaining samples...\n"
     ]
    },
    {
     "ename": "TypeError",
     "evalue": "'<' not supported between instances of 'int' and 'NoneType'",
     "output_type": "error",
     "traceback": [
      "\u001b[0;31m---------------------------------------------------------------------------\u001b[0m",
      "\u001b[0;31mTypeError\u001b[0m                                 Traceback (most recent call last)",
      "\u001b[1;32m/Users/jaimesabal/Desktop/ICL/thesis/thesis_software_archive/jaisalab/experiments.ipynb Cell 6'\u001b[0m in \u001b[0;36m<cell line: 1>\u001b[0;34m()\u001b[0m\n\u001b[0;32m----> <a href='vscode-notebook-cell:/Users/jaimesabal/Desktop/ICL/thesis/thesis_software_archive/jaisalab/experiments.ipynb#ch0000005?line=0'>1</a>\u001b[0m test_saute_trpo_backlog()\n",
      "\u001b[1;32m/Users/jaimesabal/Desktop/ICL/thesis/thesis_software_archive/jaisalab/experiments.ipynb Cell 5'\u001b[0m in \u001b[0;36mtest_saute_trpo_backlog\u001b[0;34m()\u001b[0m\n\u001b[1;32m      <a href='vscode-notebook-cell:/Users/jaimesabal/Desktop/ICL/thesis/thesis_software_archive/jaisalab/experiments.ipynb#ch0000004?line=6'>7</a>\u001b[0m \u001b[39mdef\u001b[39;00m \u001b[39mtest_saute_trpo_backlog\u001b[39m():\n\u001b[0;32m----> <a href='vscode-notebook-cell:/Users/jaimesabal/Desktop/ICL/thesis/thesis_software_archive/jaisalab/experiments.ipynb#ch0000004?line=7'>8</a>\u001b[0m     saute_trpo_backlog(seed\u001b[39m=\u001b[39;49m\u001b[39m1\u001b[39;49m)\n",
      "File \u001b[0;32m/usr/local/lib/python3.9/dist-packages/garage/experiment/experiment.py:369\u001b[0m, in \u001b[0;36mExperimentTemplate.__call__\u001b[0;34m(self, *args, **kwargs)\u001b[0m\n\u001b[1;32m    367\u001b[0m \u001b[39melse\u001b[39;00m:\n\u001b[1;32m    368\u001b[0m     ctxt \u001b[39m=\u001b[39m \u001b[39mself\u001b[39m\u001b[39m.\u001b[39m_make_context(\u001b[39mself\u001b[39m\u001b[39m.\u001b[39m_get_options(\u001b[39m*\u001b[39margs), \u001b[39m*\u001b[39m\u001b[39m*\u001b[39mkwargs)\n\u001b[0;32m--> 369\u001b[0m     result \u001b[39m=\u001b[39m \u001b[39mself\u001b[39;49m\u001b[39m.\u001b[39;49mfunction(ctxt, \u001b[39m*\u001b[39;49m\u001b[39m*\u001b[39;49mkwargs)\n\u001b[1;32m    370\u001b[0m     logger\u001b[39m.\u001b[39mremove_all()\n\u001b[1;32m    371\u001b[0m     logger\u001b[39m.\u001b[39mpop_prefix()\n",
      "File \u001b[0;32m/jaisalab/jaisalab/experiments/backlog.py:207\u001b[0m, in \u001b[0;36msaute_trpo_backlog\u001b[0;34m(ctxt, seed, n_epochs)\u001b[0m\n\u001b[1;32m    197\u001b[0m algo \u001b[39m=\u001b[39m SafetyTRPO(env_spec\u001b[39m=\u001b[39menv\u001b[39m.\u001b[39mspec,\n\u001b[1;32m    198\u001b[0m                   policy\u001b[39m=\u001b[39mpolicy,\n\u001b[1;32m    199\u001b[0m                   value_function\u001b[39m=\u001b[39mvalue_function,\n\u001b[0;32m   (...)\u001b[0m\n\u001b[1;32m    203\u001b[0m                   center_adv\u001b[39m=\u001b[39m\u001b[39mFalse\u001b[39;00m, \n\u001b[1;32m    204\u001b[0m                   is_saute\u001b[39m=\u001b[39m\u001b[39mTrue\u001b[39;00m)\n\u001b[1;32m    206\u001b[0m trainer\u001b[39m.\u001b[39msetup(algo, env)\n\u001b[0;32m--> 207\u001b[0m trainer\u001b[39m.\u001b[39;49mtrain(n_epochs\u001b[39m=\u001b[39;49mn_epochs, batch_size\u001b[39m=\u001b[39;49m\u001b[39m1024\u001b[39;49m)\n",
      "File \u001b[0;32m/usr/local/lib/python3.9/dist-packages/garage/trainer.py:396\u001b[0m, in \u001b[0;36mTrainer.train\u001b[0;34m(self, n_epochs, batch_size, plot, store_episodes, pause_for_plot)\u001b[0m\n\u001b[1;32m    393\u001b[0m summary_file \u001b[39m=\u001b[39m os\u001b[39m.\u001b[39mpath\u001b[39m.\u001b[39mjoin(log_dir, \u001b[39m'\u001b[39m\u001b[39mexperiment.json\u001b[39m\u001b[39m'\u001b[39m)\n\u001b[1;32m    394\u001b[0m dump_json(summary_file, \u001b[39mself\u001b[39m)\n\u001b[0;32m--> 396\u001b[0m average_return \u001b[39m=\u001b[39m \u001b[39mself\u001b[39;49m\u001b[39m.\u001b[39;49m_algo\u001b[39m.\u001b[39;49mtrain(\u001b[39mself\u001b[39;49m)\n\u001b[1;32m    397\u001b[0m \u001b[39mself\u001b[39m\u001b[39m.\u001b[39m_shutdown_worker()\n\u001b[1;32m    399\u001b[0m \u001b[39mreturn\u001b[39;00m average_return\n",
      "File \u001b[0;32m/usr/local/lib/python3.9/dist-packages/garage/torch/algos/vpg.py:225\u001b[0m, in \u001b[0;36mVPG.train\u001b[0;34m(self, trainer)\u001b[0m\n\u001b[1;32m    223\u001b[0m \u001b[39mfor\u001b[39;00m _ \u001b[39min\u001b[39;00m trainer\u001b[39m.\u001b[39mstep_epochs():\n\u001b[1;32m    224\u001b[0m     \u001b[39mfor\u001b[39;00m _ \u001b[39min\u001b[39;00m \u001b[39mrange\u001b[39m(\u001b[39mself\u001b[39m\u001b[39m.\u001b[39m_n_samples):\n\u001b[0;32m--> 225\u001b[0m         eps \u001b[39m=\u001b[39m trainer\u001b[39m.\u001b[39;49mobtain_episodes(trainer\u001b[39m.\u001b[39;49mstep_itr)\n\u001b[1;32m    226\u001b[0m         last_return \u001b[39m=\u001b[39m \u001b[39mself\u001b[39m\u001b[39m.\u001b[39m_train_once(trainer\u001b[39m.\u001b[39mstep_itr, eps)\n\u001b[1;32m    227\u001b[0m         trainer\u001b[39m.\u001b[39mstep_itr \u001b[39m+\u001b[39m\u001b[39m=\u001b[39m \u001b[39m1\u001b[39m\n",
      "File \u001b[0;32m/usr/local/lib/python3.9/dist-packages/garage/trainer.py:218\u001b[0m, in \u001b[0;36mTrainer.obtain_episodes\u001b[0;34m(self, itr, batch_size, agent_update, env_update)\u001b[0m\n\u001b[1;32m    216\u001b[0m         policy \u001b[39m=\u001b[39m \u001b[39mself\u001b[39m\u001b[39m.\u001b[39m_algo\u001b[39m.\u001b[39mpolicy\n\u001b[1;32m    217\u001b[0m     agent_update \u001b[39m=\u001b[39m policy\u001b[39m.\u001b[39mget_param_values()\n\u001b[0;32m--> 218\u001b[0m episodes \u001b[39m=\u001b[39m \u001b[39mself\u001b[39;49m\u001b[39m.\u001b[39;49m_sampler\u001b[39m.\u001b[39;49mobtain_samples(\n\u001b[1;32m    219\u001b[0m     itr, (batch_size \u001b[39mor\u001b[39;49;00m \u001b[39mself\u001b[39;49m\u001b[39m.\u001b[39;49m_train_args\u001b[39m.\u001b[39;49mbatch_size),\n\u001b[1;32m    220\u001b[0m     agent_update\u001b[39m=\u001b[39;49magent_update,\n\u001b[1;32m    221\u001b[0m     env_update\u001b[39m=\u001b[39;49menv_update)\n\u001b[1;32m    222\u001b[0m \u001b[39mself\u001b[39m\u001b[39m.\u001b[39m_stats\u001b[39m.\u001b[39mtotal_env_steps \u001b[39m+\u001b[39m\u001b[39m=\u001b[39m \u001b[39msum\u001b[39m(episodes\u001b[39m.\u001b[39mlengths)\n\u001b[1;32m    223\u001b[0m \u001b[39mreturn\u001b[39;00m episodes\n",
      "File \u001b[0;32m/jaisalab/jaisalab/sampler/sampler_safe.py:119\u001b[0m, in \u001b[0;36mSamplerSafe.obtain_samples\u001b[0;34m(self, itr, num_samples, agent_update, env_update)\u001b[0m\n\u001b[1;32m    117\u001b[0m \u001b[39mwhile\u001b[39;00m \u001b[39mTrue\u001b[39;00m:\n\u001b[1;32m    118\u001b[0m     \u001b[39mfor\u001b[39;00m worker \u001b[39min\u001b[39;00m \u001b[39mself\u001b[39m\u001b[39m.\u001b[39m_workers:\n\u001b[0;32m--> 119\u001b[0m         batch \u001b[39m=\u001b[39m worker\u001b[39m.\u001b[39;49mrollout()\n\u001b[1;32m    120\u001b[0m         completed_samples \u001b[39m+\u001b[39m\u001b[39m=\u001b[39m \u001b[39mlen\u001b[39m(batch\u001b[39m.\u001b[39mactions)\n\u001b[1;32m    121\u001b[0m         batches\u001b[39m.\u001b[39mappend(batch)\n",
      "File \u001b[0;32m/usr/local/lib/python3.9/dist-packages/garage/sampler/default_worker.py:184\u001b[0m, in \u001b[0;36mDefaultWorker.rollout\u001b[0;34m(self)\u001b[0m\n\u001b[1;32m    177\u001b[0m \u001b[39m\"\"\"Sample a single episode of the agent in the environment.\u001b[39;00m\n\u001b[1;32m    178\u001b[0m \n\u001b[1;32m    179\u001b[0m \u001b[39mReturns:\u001b[39;00m\n\u001b[1;32m    180\u001b[0m \u001b[39m    EpisodeBatch: The collected episode.\u001b[39;00m\n\u001b[1;32m    181\u001b[0m \n\u001b[1;32m    182\u001b[0m \u001b[39m\"\"\"\u001b[39;00m\n\u001b[1;32m    183\u001b[0m \u001b[39mself\u001b[39m\u001b[39m.\u001b[39mstart_episode()\n\u001b[0;32m--> 184\u001b[0m \u001b[39mwhile\u001b[39;00m \u001b[39mnot\u001b[39;00m \u001b[39mself\u001b[39;49m\u001b[39m.\u001b[39;49mstep_episode():\n\u001b[1;32m    185\u001b[0m     \u001b[39mpass\u001b[39;00m\n\u001b[1;32m    186\u001b[0m \u001b[39mreturn\u001b[39;00m \u001b[39mself\u001b[39m\u001b[39m.\u001b[39mcollect_episode()\n",
      "File \u001b[0;32m/usr/local/lib/python3.9/dist-packages/garage/sampler/default_worker.py:108\u001b[0m, in \u001b[0;36mDefaultWorker.step_episode\u001b[0;34m(self)\u001b[0m\n\u001b[1;32m    100\u001b[0m \u001b[39mdef\u001b[39;00m \u001b[39mstep_episode\u001b[39m(\u001b[39mself\u001b[39m):\n\u001b[1;32m    101\u001b[0m     \u001b[39m\"\"\"Take a single time-step in the current episode.\u001b[39;00m\n\u001b[1;32m    102\u001b[0m \n\u001b[1;32m    103\u001b[0m \u001b[39m    Returns:\u001b[39;00m\n\u001b[0;32m   (...)\u001b[0m\n\u001b[1;32m    106\u001b[0m \n\u001b[1;32m    107\u001b[0m \u001b[39m    \"\"\"\u001b[39;00m\n\u001b[0;32m--> 108\u001b[0m     \u001b[39mif\u001b[39;00m \u001b[39mself\u001b[39;49m\u001b[39m.\u001b[39;49m_eps_length \u001b[39m<\u001b[39;49m \u001b[39mself\u001b[39;49m\u001b[39m.\u001b[39;49m_max_episode_length:\n\u001b[1;32m    109\u001b[0m         a, agent_info \u001b[39m=\u001b[39m \u001b[39mself\u001b[39m\u001b[39m.\u001b[39magent\u001b[39m.\u001b[39mget_action(\u001b[39mself\u001b[39m\u001b[39m.\u001b[39m_prev_obs)\n\u001b[1;32m    110\u001b[0m         es \u001b[39m=\u001b[39m \u001b[39mself\u001b[39m\u001b[39m.\u001b[39menv\u001b[39m.\u001b[39mstep(a)\n",
      "\u001b[0;31mTypeError\u001b[0m: '<' not supported between instances of 'int' and 'NoneType'"
     ]
    }
   ],
   "source": [
    "test_saute_trpo_backlog()"
   ]
  },
  {
   "cell_type": "code",
   "execution_count": null,
   "metadata": {},
   "outputs": [],
   "source": []
  }
 ],
 "metadata": {
  "kernelspec": {
   "display_name": "Python 3 (ipykernel)",
   "language": "python",
   "name": "python3"
  },
  "language_info": {
   "codemirror_mode": {
    "name": "ipython",
    "version": 3
   },
   "file_extension": ".py",
   "mimetype": "text/x-python",
   "name": "python",
   "nbconvert_exporter": "python",
   "pygments_lexer": "ipython3",
   "version": "3.9.13"
  },
  "orig_nbformat": 4,
  "vscode": {
   "interpreter": {
    "hash": "5f669c7084f16341f74c1b327dbfce1779bcbe9248dfe5af15e28a82cc4a6125"
   }
  }
 },
 "nbformat": 4,
 "nbformat_minor": 2
}
